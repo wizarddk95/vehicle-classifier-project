{
 "cells": [
  {
   "cell_type": "code",
   "execution_count": 1,
   "metadata": {},
   "outputs": [
    {
     "name": "stdout",
     "output_type": "stream",
     "text": [
      "계층적 분할 확인\n",
      "학습 데이터 개수: 25113\n",
      "검증 데이터 개수: 6279\n",
      "총 데이터 개수: 31392\n",
      "\n",
      "🚀 학습 시작: swin_tiny_patch4_window7_224\n",
      "\n",
      "📘 Epoch 1\n"
     ]
    },
    {
     "name": "stderr",
     "output_type": "stream",
     "text": [
      "                                                        \r"
     ]
    },
    {
     "name": "stdout",
     "output_type": "stream",
     "text": [
      "✅ Acc: 0.5749 | LogLoss: 1.7029\n",
      "\n",
      "📘 Epoch 2\n"
     ]
    },
    {
     "name": "stderr",
     "output_type": "stream",
     "text": [
      "                                                        \r"
     ]
    },
    {
     "name": "stdout",
     "output_type": "stream",
     "text": [
      "✅ Acc: 0.7791 | LogLoss: 0.7752\n",
      "\n",
      "📘 Epoch 3\n"
     ]
    },
    {
     "name": "stderr",
     "output_type": "stream",
     "text": [
      "                                                        \r"
     ]
    },
    {
     "name": "stdout",
     "output_type": "stream",
     "text": [
      "✅ Acc: 0.8323 | LogLoss: 0.5452\n",
      "\n",
      "📘 Epoch 4\n"
     ]
    },
    {
     "name": "stderr",
     "output_type": "stream",
     "text": [
      "                                                        \r"
     ]
    },
    {
     "name": "stdout",
     "output_type": "stream",
     "text": [
      "✅ Acc: 0.8720 | LogLoss: 0.3974\n",
      "\n",
      "📘 Epoch 5\n"
     ]
    },
    {
     "name": "stderr",
     "output_type": "stream",
     "text": [
      "                                                        \r"
     ]
    },
    {
     "name": "stdout",
     "output_type": "stream",
     "text": [
      "✅ Acc: 0.8801 | LogLoss: 0.3560\n",
      "\n",
      "📘 Epoch 6\n"
     ]
    },
    {
     "name": "stderr",
     "output_type": "stream",
     "text": [
      "                                                        \r"
     ]
    },
    {
     "name": "stdout",
     "output_type": "stream",
     "text": [
      "✅ Acc: 0.8971 | LogLoss: 0.3076\n",
      "\n",
      "📘 Epoch 7\n"
     ]
    },
    {
     "name": "stderr",
     "output_type": "stream",
     "text": [
      "                                                        \r"
     ]
    },
    {
     "name": "stdout",
     "output_type": "stream",
     "text": [
      "✅ Acc: 0.9089 | LogLoss: 0.2673\n",
      "\n",
      "📘 Epoch 8\n"
     ]
    },
    {
     "name": "stderr",
     "output_type": "stream",
     "text": [
      "                                                        \r"
     ]
    },
    {
     "name": "stdout",
     "output_type": "stream",
     "text": [
      "✅ Acc: 0.9108 | LogLoss: 0.2619\n",
      "\n",
      "📘 Epoch 9\n"
     ]
    },
    {
     "name": "stderr",
     "output_type": "stream",
     "text": [
      "                                                        \r"
     ]
    },
    {
     "name": "stdout",
     "output_type": "stream",
     "text": [
      "✅ Acc: 0.9186 | LogLoss: 0.2404\n",
      "\n",
      "📘 Epoch 10\n"
     ]
    },
    {
     "name": "stderr",
     "output_type": "stream",
     "text": [
      "                                                        \r"
     ]
    },
    {
     "name": "stdout",
     "output_type": "stream",
     "text": [
      "✅ Acc: 0.9115 | LogLoss: 0.2482\n",
      "📉 EarlyStopping: 1/5\n",
      "\n",
      "📘 Epoch 11\n"
     ]
    },
    {
     "name": "stderr",
     "output_type": "stream",
     "text": [
      "                                                        \r"
     ]
    },
    {
     "name": "stdout",
     "output_type": "stream",
     "text": [
      "✅ Acc: 0.9259 | LogLoss: 0.2133\n",
      "\n",
      "📘 Epoch 12\n"
     ]
    },
    {
     "name": "stderr",
     "output_type": "stream",
     "text": [
      "                                                        \r"
     ]
    },
    {
     "name": "stdout",
     "output_type": "stream",
     "text": [
      "✅ Acc: 0.9202 | LogLoss: 0.2189\n",
      "📉 EarlyStopping: 1/5\n",
      "\n",
      "📘 Epoch 13\n"
     ]
    },
    {
     "name": "stderr",
     "output_type": "stream",
     "text": [
      "                                                        \r"
     ]
    },
    {
     "name": "stdout",
     "output_type": "stream",
     "text": [
      "✅ Acc: 0.9255 | LogLoss: 0.2148\n",
      "📉 EarlyStopping: 2/5\n",
      "\n",
      "📘 Epoch 14\n"
     ]
    },
    {
     "name": "stderr",
     "output_type": "stream",
     "text": [
      "                                                        \r"
     ]
    },
    {
     "name": "stdout",
     "output_type": "stream",
     "text": [
      "✅ Acc: 0.9232 | LogLoss: 0.2173\n",
      "📉 EarlyStopping: 3/5\n",
      "\n",
      "📘 Epoch 15\n"
     ]
    },
    {
     "name": "stderr",
     "output_type": "stream",
     "text": [
      "                                                        \r"
     ]
    },
    {
     "name": "stdout",
     "output_type": "stream",
     "text": [
      "✅ Acc: 0.9339 | LogLoss: 0.1860\n",
      "\n",
      "📘 Epoch 16\n"
     ]
    },
    {
     "name": "stderr",
     "output_type": "stream",
     "text": [
      "                                                        \r"
     ]
    },
    {
     "name": "stdout",
     "output_type": "stream",
     "text": [
      "✅ Acc: 0.9374 | LogLoss: 0.1767\n",
      "\n",
      "📘 Epoch 17\n"
     ]
    },
    {
     "name": "stderr",
     "output_type": "stream",
     "text": [
      "                                                        \r"
     ]
    },
    {
     "name": "stdout",
     "output_type": "stream",
     "text": [
      "✅ Acc: 0.9409 | LogLoss: 0.1714\n",
      "\n",
      "📘 Epoch 18\n"
     ]
    },
    {
     "name": "stderr",
     "output_type": "stream",
     "text": [
      "                                                        \r"
     ]
    },
    {
     "name": "stdout",
     "output_type": "stream",
     "text": [
      "✅ Acc: 0.9423 | LogLoss: 0.1672\n",
      "\n",
      "📘 Epoch 19\n"
     ]
    },
    {
     "name": "stderr",
     "output_type": "stream",
     "text": [
      "                                                        \r"
     ]
    },
    {
     "name": "stdout",
     "output_type": "stream",
     "text": [
      "✅ Acc: 0.9454 | LogLoss: 0.1659\n",
      "\n",
      "📘 Epoch 20\n"
     ]
    },
    {
     "name": "stderr",
     "output_type": "stream",
     "text": [
      "                                                        \r"
     ]
    },
    {
     "name": "stdout",
     "output_type": "stream",
     "text": [
      "✅ Acc: 0.9446 | LogLoss: 0.1576\n",
      "\n",
      "📘 Epoch 21\n"
     ]
    },
    {
     "name": "stderr",
     "output_type": "stream",
     "text": [
      "                                                        \r"
     ]
    },
    {
     "name": "stdout",
     "output_type": "stream",
     "text": [
      "✅ Acc: 0.9470 | LogLoss: 0.1561\n",
      "\n",
      "📘 Epoch 22\n"
     ]
    },
    {
     "name": "stderr",
     "output_type": "stream",
     "text": [
      "                                                        \r"
     ]
    },
    {
     "name": "stdout",
     "output_type": "stream",
     "text": [
      "✅ Acc: 0.9463 | LogLoss: 0.1575\n",
      "📉 EarlyStopping: 1/5\n",
      "\n",
      "📘 Epoch 23\n"
     ]
    },
    {
     "name": "stderr",
     "output_type": "stream",
     "text": [
      "                                                        \r"
     ]
    },
    {
     "name": "stdout",
     "output_type": "stream",
     "text": [
      "✅ Acc: 0.9468 | LogLoss: 0.1476\n",
      "\n",
      "📘 Epoch 24\n"
     ]
    },
    {
     "name": "stderr",
     "output_type": "stream",
     "text": [
      "                                                        \r"
     ]
    },
    {
     "name": "stdout",
     "output_type": "stream",
     "text": [
      "✅ Acc: 0.9489 | LogLoss: 0.1523\n",
      "📉 EarlyStopping: 1/5\n",
      "\n",
      "📘 Epoch 25\n"
     ]
    },
    {
     "name": "stderr",
     "output_type": "stream",
     "text": [
      "                                                        \r"
     ]
    },
    {
     "name": "stdout",
     "output_type": "stream",
     "text": [
      "✅ Acc: 0.9530 | LogLoss: 0.1427\n",
      "\n",
      "📘 Epoch 26\n"
     ]
    },
    {
     "name": "stderr",
     "output_type": "stream",
     "text": [
      "                                                        \r"
     ]
    },
    {
     "name": "stdout",
     "output_type": "stream",
     "text": [
      "✅ Acc: 0.9530 | LogLoss: 0.1397\n",
      "\n",
      "📘 Epoch 27\n"
     ]
    },
    {
     "name": "stderr",
     "output_type": "stream",
     "text": [
      "                                                        \r"
     ]
    },
    {
     "name": "stdout",
     "output_type": "stream",
     "text": [
      "✅ Acc: 0.9565 | LogLoss: 0.1336\n",
      "\n",
      "📘 Epoch 28\n"
     ]
    },
    {
     "name": "stderr",
     "output_type": "stream",
     "text": [
      "                                                        \r"
     ]
    },
    {
     "name": "stdout",
     "output_type": "stream",
     "text": [
      "✅ Acc: 0.9522 | LogLoss: 0.1385\n",
      "📉 EarlyStopping: 1/5\n",
      "\n",
      "📘 Epoch 29\n"
     ]
    },
    {
     "name": "stderr",
     "output_type": "stream",
     "text": [
      "                                                        \r"
     ]
    },
    {
     "name": "stdout",
     "output_type": "stream",
     "text": [
      "✅ Acc: 0.9567 | LogLoss: 0.1283\n",
      "\n",
      "📘 Epoch 30\n"
     ]
    },
    {
     "name": "stderr",
     "output_type": "stream",
     "text": [
      "                                                        \r"
     ]
    },
    {
     "name": "stdout",
     "output_type": "stream",
     "text": [
      "✅ Acc: 0.9564 | LogLoss: 0.1289\n",
      "📉 EarlyStopping: 1/5\n",
      "\n",
      "📘 Epoch 31\n"
     ]
    },
    {
     "name": "stderr",
     "output_type": "stream",
     "text": [
      "                                                        \r"
     ]
    },
    {
     "name": "stdout",
     "output_type": "stream",
     "text": [
      "✅ Acc: 0.9562 | LogLoss: 0.1289\n",
      "📉 EarlyStopping: 2/5\n",
      "\n",
      "📘 Epoch 32\n"
     ]
    },
    {
     "name": "stderr",
     "output_type": "stream",
     "text": [
      "                                                        \r"
     ]
    },
    {
     "name": "stdout",
     "output_type": "stream",
     "text": [
      "✅ Acc: 0.9595 | LogLoss: 0.1198\n",
      "\n",
      "📘 Epoch 33\n"
     ]
    },
    {
     "name": "stderr",
     "output_type": "stream",
     "text": [
      "                                                        \r"
     ]
    },
    {
     "name": "stdout",
     "output_type": "stream",
     "text": [
      "✅ Acc: 0.9599 | LogLoss: 0.1216\n",
      "📉 EarlyStopping: 1/5\n",
      "\n",
      "📘 Epoch 34\n"
     ]
    },
    {
     "name": "stderr",
     "output_type": "stream",
     "text": [
      "                                                        \r"
     ]
    },
    {
     "name": "stdout",
     "output_type": "stream",
     "text": [
      "✅ Acc: 0.9608 | LogLoss: 0.1175\n",
      "\n",
      "📘 Epoch 35\n"
     ]
    },
    {
     "name": "stderr",
     "output_type": "stream",
     "text": [
      "                                                        \r"
     ]
    },
    {
     "name": "stdout",
     "output_type": "stream",
     "text": [
      "✅ Acc: 0.9602 | LogLoss: 0.1195\n",
      "📉 EarlyStopping: 1/5\n",
      "\n",
      "📘 Epoch 36\n"
     ]
    },
    {
     "name": "stderr",
     "output_type": "stream",
     "text": [
      "                                                        \r"
     ]
    },
    {
     "name": "stdout",
     "output_type": "stream",
     "text": [
      "✅ Acc: 0.9632 | LogLoss: 0.1150\n",
      "\n",
      "📘 Epoch 37\n"
     ]
    },
    {
     "name": "stderr",
     "output_type": "stream",
     "text": [
      "                                                        \r"
     ]
    },
    {
     "name": "stdout",
     "output_type": "stream",
     "text": [
      "✅ Acc: 0.9615 | LogLoss: 0.1116\n",
      "\n",
      "📘 Epoch 38\n"
     ]
    },
    {
     "name": "stderr",
     "output_type": "stream",
     "text": [
      "                                                        \r"
     ]
    },
    {
     "name": "stdout",
     "output_type": "stream",
     "text": [
      "✅ Acc: 0.9650 | LogLoss: 0.1153\n",
      "📉 EarlyStopping: 1/5\n",
      "\n",
      "📘 Epoch 39\n"
     ]
    },
    {
     "name": "stderr",
     "output_type": "stream",
     "text": [
      "                                                        \r"
     ]
    },
    {
     "name": "stdout",
     "output_type": "stream",
     "text": [
      "✅ Acc: 0.9658 | LogLoss: 0.1084\n",
      "\n",
      "📘 Epoch 40\n"
     ]
    },
    {
     "name": "stderr",
     "output_type": "stream",
     "text": [
      "                                                        \r"
     ]
    },
    {
     "name": "stdout",
     "output_type": "stream",
     "text": [
      "✅ Acc: 0.9631 | LogLoss: 0.1080\n",
      "\n",
      "📘 Epoch 41\n"
     ]
    },
    {
     "name": "stderr",
     "output_type": "stream",
     "text": [
      "                                                        \r"
     ]
    },
    {
     "name": "stdout",
     "output_type": "stream",
     "text": [
      "✅ Acc: 0.9616 | LogLoss: 0.1082\n",
      "📉 EarlyStopping: 1/5\n",
      "\n",
      "📘 Epoch 42\n"
     ]
    },
    {
     "name": "stderr",
     "output_type": "stream",
     "text": [
      "                                                        \r"
     ]
    },
    {
     "name": "stdout",
     "output_type": "stream",
     "text": [
      "✅ Acc: 0.9646 | LogLoss: 0.1086\n",
      "📉 EarlyStopping: 2/5\n",
      "\n",
      "📘 Epoch 43\n"
     ]
    },
    {
     "name": "stderr",
     "output_type": "stream",
     "text": [
      "                                                        \r"
     ]
    },
    {
     "name": "stdout",
     "output_type": "stream",
     "text": [
      "✅ Acc: 0.9645 | LogLoss: 0.1078\n",
      "\n",
      "📘 Epoch 44\n"
     ]
    },
    {
     "name": "stderr",
     "output_type": "stream",
     "text": [
      "                                                        \r"
     ]
    },
    {
     "name": "stdout",
     "output_type": "stream",
     "text": [
      "✅ Acc: 0.9654 | LogLoss: 0.1058\n",
      "\n",
      "📘 Epoch 45\n"
     ]
    },
    {
     "name": "stderr",
     "output_type": "stream",
     "text": [
      "                                                        \r"
     ]
    },
    {
     "name": "stdout",
     "output_type": "stream",
     "text": [
      "✅ Acc: 0.9645 | LogLoss: 0.1071\n",
      "📉 EarlyStopping: 1/5\n",
      "\n",
      "📘 Epoch 46\n"
     ]
    },
    {
     "name": "stderr",
     "output_type": "stream",
     "text": [
      "                                                        \r"
     ]
    },
    {
     "name": "stdout",
     "output_type": "stream",
     "text": [
      "✅ Acc: 0.9650 | LogLoss: 0.1066\n",
      "📉 EarlyStopping: 2/5\n",
      "\n",
      "📘 Epoch 47\n"
     ]
    },
    {
     "name": "stderr",
     "output_type": "stream",
     "text": [
      "                                                        \r"
     ]
    },
    {
     "name": "stdout",
     "output_type": "stream",
     "text": [
      "✅ Acc: 0.9640 | LogLoss: 0.1065\n",
      "📉 EarlyStopping: 3/5\n",
      "\n",
      "📘 Epoch 48\n"
     ]
    },
    {
     "name": "stderr",
     "output_type": "stream",
     "text": [
      "                                                        \r"
     ]
    },
    {
     "name": "stdout",
     "output_type": "stream",
     "text": [
      "✅ Acc: 0.9648 | LogLoss: 0.1057\n",
      "\n",
      "📘 Epoch 49\n"
     ]
    },
    {
     "name": "stderr",
     "output_type": "stream",
     "text": [
      "                                                        \r"
     ]
    },
    {
     "name": "stdout",
     "output_type": "stream",
     "text": [
      "✅ Acc: 0.9650 | LogLoss: 0.1055\n",
      "\n",
      "📘 Epoch 50\n"
     ]
    },
    {
     "name": "stderr",
     "output_type": "stream",
     "text": [
      "                                                        \r"
     ]
    },
    {
     "name": "stdout",
     "output_type": "stream",
     "text": [
      "✅ Acc: 0.9650 | LogLoss: 0.1055\n"
     ]
    },
    {
     "data": {
      "text/html": [
       "<div>\n",
       "<style scoped>\n",
       "    .dataframe tbody tr th:only-of-type {\n",
       "        vertical-align: middle;\n",
       "    }\n",
       "\n",
       "    .dataframe tbody tr th {\n",
       "        vertical-align: top;\n",
       "    }\n",
       "\n",
       "    .dataframe thead th {\n",
       "        text-align: right;\n",
       "    }\n",
       "</style>\n",
       "<table border=\"1\" class=\"dataframe\">\n",
       "  <thead>\n",
       "    <tr style=\"text-align: right;\">\n",
       "      <th></th>\n",
       "      <th>model</th>\n",
       "      <th>accuracy</th>\n",
       "      <th>log_loss</th>\n",
       "      <th>timestamp</th>\n",
       "    </tr>\n",
       "  </thead>\n",
       "  <tbody>\n",
       "    <tr>\n",
       "      <th>0</th>\n",
       "      <td>swin_tiny_patch4_window7_224</td>\n",
       "      <td>0.964963</td>\n",
       "      <td>0.105472</td>\n",
       "      <td>20250527_141339</td>\n",
       "    </tr>\n",
       "  </tbody>\n",
       "</table>\n",
       "</div>"
      ],
      "text/plain": [
       "                          model  accuracy  log_loss        timestamp\n",
       "0  swin_tiny_patch4_window7_224  0.964963  0.105472  20250527_141339"
      ]
     },
     "metadata": {},
     "output_type": "display_data"
    }
   ],
   "source": [
    "import sys\n",
    "import os\n",
    "sys.path.append(os.path.abspath('..'))\n",
    "\n",
    "import warnings\n",
    "warnings.filterwarnings('ignore')\n",
    "\n",
    "import torch\n",
    "from torch import nn, optim\n",
    "from torch.utils.tensorboard import SummaryWriter\n",
    "from timm import create_model\n",
    "from torch.optim.lr_scheduler import CosineAnnealingLR\n",
    "from torch.optim.lr_scheduler import CosineAnnealingWarmRestarts\n",
    "\n",
    "import pandas as pd\n",
    "from datetime import datetime\n",
    "from sklearn.metrics import accuracy_score\n",
    "\n",
    "from dataloaders.loaders import get_dataloaders\n",
    "from models.train_utils import train_one_epoch, evaluate, EarlyStopping, multiclass_log_loss\n",
    "from analysis.result_plotter import analyze_model_output\n",
    "\n",
    "import matplotlib.pyplot as plt\n",
    "import random\n",
    "import numpy as np\n",
    "\n",
    "# 시드 고정\n",
    "def seed_everything(seed=28):\n",
    "    random.seed(seed)\n",
    "    np.random.seed(seed)\n",
    "    torch.manual_seed(seed)\n",
    "    torch.cuda.manual_seed(seed)\n",
    "    torch.backends.cudnn.deterministic = True\n",
    "    torch.backends.cudnn.benchmark = False\n",
    "\n",
    "seed_everything(28)\n",
    "\n",
    "# 한글 폰트 설정\n",
    "plt.rcParams['font.family'] = 'Malgun Gothic'\n",
    "plt.rcParams['axes.unicode_minus'] = False\n",
    "\n",
    "# ✅ 설정\n",
    "data_root = '../data/train2'\n",
    "device = torch.device(\"cuda\" if torch.cuda.is_available() else \"cpu\")\n",
    "num_epochs = 50\n",
    "patience = 5\n",
    "batch_size = 32\n",
    "base_log_dir = \"../runs\"\n",
    "os.makedirs(base_log_dir, exist_ok=True)\n",
    "\n",
    "# ✅ 데이터 로더 구성\n",
    "dataloaders = get_dataloaders(data_root, batch_size=batch_size)\n",
    "\n",
    "# 첫 번째 모델의 데이터 수 확인\n",
    "first_model_name = list(dataloaders.keys())[0]\n",
    "train_loader = dataloaders[first_model_name]['train']\n",
    "val_loader = dataloaders[first_model_name]['val']\n",
    "print(f\"학습 데이터 개수: {len(train_loader.dataset)}\")\n",
    "print(f\"검증 데이터 개수: {len(val_loader.dataset)}\")\n",
    "print(f\"총 데이터 개수: {len(train_loader.dataset) + len(val_loader.dataset)}\")\n",
    "\n",
    "results = []\n",
    "timestamp = datetime.now().strftime('%Y%m%d_%H%M%S')\n",
    "\n",
    "for model_name, loaders in dataloaders.items():\n",
    "    print(f\"\\n🚀 학습 시작: {model_name}\")\n",
    "    \n",
    "    log_dir = os.path.join(base_log_dir, f\"{model_name}_{timestamp}\")\n",
    "    writer = SummaryWriter(log_dir=log_dir)\n",
    "\n",
    "    model = create_model(model_name, pretrained=True, num_classes=len(loaders['classes'])).to(device)\n",
    "    optimizer = optim.AdamW(model.parameters(), lr=1e-4, weight_decay=0.01)\n",
    "    # scheduler = CosineAnnealingLR(optimizer, T_max=num_epochs)\n",
    "    scheduler = CosineAnnealingWarmRestarts(optimizer, T_0=10, T_mult=2)\n",
    "    criterion = nn.CrossEntropyLoss()\n",
    "    early_stopping = EarlyStopping(patience=patience)\n",
    "\n",
    "    for epoch in range(num_epochs):\n",
    "        # print(f\"\\n📘 Epoch {epoch + 1}\")\n",
    "        train_loss = train_one_epoch(model, loaders['train'], criterion, optimizer, device)\n",
    "        y_pred, y_prob, y_true, y_id, _ = evaluate(model, loaders['val'], device)\n",
    "\n",
    "        acc = accuracy_score(y_true, y_pred)\n",
    "        class_list = [str(i) for i in range(y_prob.shape[1])]\n",
    "        prob_df = pd.DataFrame(y_prob, columns=class_list)\n",
    "        prob_df.insert(0, 'ID', y_id)\n",
    "        label_df = pd.DataFrame({'ID': y_id, 'label': [str(l) for l in y_true]})\n",
    "\n",
    "        logloss = multiclass_log_loss(label_df, prob_df)\n",
    "\n",
    "        writer.add_scalar(\"Loss/Train\", train_loss, epoch)\n",
    "        writer.add_scalar(\"Loss/Validation\", logloss, epoch)\n",
    "        writer.add_scalar(\"Accuracy/Validation\", acc, epoch)\n",
    "        writer.add_scalar(\"LearningRate\", scheduler.get_last_lr()[0], epoch)\n",
    "\n",
    "        print(f\"📘 Epoch {epoch + 1} ✅ Acc: {acc:.4f} | LogLoss: {logloss:.4f}\")\n",
    "        scheduler.step()\n",
    "        early_stopping(logloss, model)\n",
    "        if early_stopping.early_stop:\n",
    "            print(\"⛔ Early stopping triggered.\")\n",
    "            break\n",
    "\n",
    "    model.load_state_dict(early_stopping.best_model_state)\n",
    "    writer.close()\n",
    "\n",
    "    # ✅ 분석 결과 자동 저장\n",
    "    val_indices = loaders['val'].dataset.indices if hasattr(loaders['val'].dataset, 'indices') else list(range(len(loaders['val'].dataset)))\n",
    "    base_dataset = loaders['val'].dataset.dataset\n",
    "    image_paths = [base_dataset.samples[i][0] for i in val_indices]\n",
    "\n",
    "    analyze_model_output(\n",
    "        model_name=model_name,\n",
    "        timestamp=timestamp,\n",
    "        image_paths=image_paths,\n",
    "        y_pred=y_pred,\n",
    "        y_prob=y_prob,\n",
    "        y_true=y_true,\n",
    "        class_names=loaders['classes']\n",
    "    )\n",
    "\n",
    "    results.append({'model': model_name, 'accuracy': acc, 'log_loss': logloss, 'timestamp': timestamp})\n",
    "\n",
    "# ✅ 최종 비교 결과\n",
    "df_result = pd.DataFrame(results).sort_values(by='log_loss')\n",
    "display(df_result)\n"
   ]
  },
  {
   "cell_type": "code",
   "execution_count": 2,
   "metadata": {},
   "outputs": [
    {
     "name": "stdout",
     "output_type": "stream",
     "text": [
      "2.7.0+cu118\n",
      "11.8\n"
     ]
    }
   ],
   "source": [
    "import torch\n",
    "print(torch.__version__)\n",
    "print(torch.version.cuda)\n",
    "  "
   ]
  }
 ],
 "metadata": {
  "kernelspec": {
   "display_name": "pytorch_env",
   "language": "python",
   "name": "python3"
  },
  "language_info": {
   "codemirror_mode": {
    "name": "ipython",
    "version": 3
   },
   "file_extension": ".py",
   "mimetype": "text/x-python",
   "name": "python",
   "nbconvert_exporter": "python",
   "pygments_lexer": "ipython3",
   "version": "3.11.12"
  }
 },
 "nbformat": 4,
 "nbformat_minor": 2
}
