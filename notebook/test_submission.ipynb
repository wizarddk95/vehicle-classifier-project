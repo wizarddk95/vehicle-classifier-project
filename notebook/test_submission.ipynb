{
 "cells": [
  {
   "cell_type": "code",
   "execution_count": null,
   "metadata": {},
   "outputs": [
    {
     "name": "stdout",
     "output_type": "stream",
     "text": [
      "🔁 전체 학습 데이터로 재학습 시작\n"
     ]
    },
    {
     "name": "stderr",
     "output_type": "stream",
     "text": [
      "                                                        \r"
     ]
    },
    {
     "name": "stdout",
     "output_type": "stream",
     "text": [
      "📘 Epoch 1 🔹 Training Loss: 3.8719 🔹 Learning Rate: 0.000100\n"
     ]
    },
    {
     "name": "stderr",
     "output_type": "stream",
     "text": [
      "                                                        \r"
     ]
    },
    {
     "name": "stdout",
     "output_type": "stream",
     "text": [
      "📘 Epoch 2 🔹 Training Loss: 1.6973 🔹 Learning Rate: 0.000100\n"
     ]
    },
    {
     "name": "stderr",
     "output_type": "stream",
     "text": [
      "                                                        \r"
     ]
    },
    {
     "name": "stdout",
     "output_type": "stream",
     "text": [
      "📘 Epoch 3 🔹 Training Loss: 1.2012 🔹 Learning Rate: 0.000100\n"
     ]
    },
    {
     "name": "stderr",
     "output_type": "stream",
     "text": [
      "                                                        \r"
     ]
    },
    {
     "name": "stdout",
     "output_type": "stream",
     "text": [
      "📘 Epoch 4 🔹 Training Loss: 0.9646 🔹 Learning Rate: 0.000099\n"
     ]
    },
    {
     "name": "stderr",
     "output_type": "stream",
     "text": [
      "                                                        \r"
     ]
    },
    {
     "name": "stdout",
     "output_type": "stream",
     "text": [
      "📘 Epoch 5 🔹 Training Loss: 0.8250 🔹 Learning Rate: 0.000098\n"
     ]
    },
    {
     "name": "stderr",
     "output_type": "stream",
     "text": [
      "                                                        \r"
     ]
    },
    {
     "name": "stdout",
     "output_type": "stream",
     "text": [
      "📘 Epoch 6 🔹 Training Loss: 0.7277 🔹 Learning Rate: 0.000098\n"
     ]
    },
    {
     "name": "stderr",
     "output_type": "stream",
     "text": [
      "                                                        \r"
     ]
    },
    {
     "name": "stdout",
     "output_type": "stream",
     "text": [
      "📘 Epoch 7 🔹 Training Loss: 0.6563 🔹 Learning Rate: 0.000096\n"
     ]
    },
    {
     "name": "stderr",
     "output_type": "stream",
     "text": [
      "                                                        \r"
     ]
    },
    {
     "name": "stdout",
     "output_type": "stream",
     "text": [
      "📘 Epoch 8 🔹 Training Loss: 0.5954 🔹 Learning Rate: 0.000095\n"
     ]
    },
    {
     "name": "stderr",
     "output_type": "stream",
     "text": [
      "                                                        \r"
     ]
    },
    {
     "name": "stdout",
     "output_type": "stream",
     "text": [
      "📘 Epoch 9 🔹 Training Loss: 0.5557 🔹 Learning Rate: 0.000094\n"
     ]
    },
    {
     "name": "stderr",
     "output_type": "stream",
     "text": [
      "                                                        \r"
     ]
    },
    {
     "name": "stdout",
     "output_type": "stream",
     "text": [
      "📘 Epoch 10 🔹 Training Loss: 0.5324 🔹 Learning Rate: 0.000092\n"
     ]
    },
    {
     "name": "stderr",
     "output_type": "stream",
     "text": [
      "                                                        \r"
     ]
    },
    {
     "name": "stdout",
     "output_type": "stream",
     "text": [
      "📘 Epoch 11 🔹 Training Loss: 0.4970 🔹 Learning Rate: 0.000090\n"
     ]
    },
    {
     "name": "stderr",
     "output_type": "stream",
     "text": [
      "                                                        \r"
     ]
    },
    {
     "name": "stdout",
     "output_type": "stream",
     "text": [
      "📘 Epoch 12 🔹 Training Loss: 0.4687 🔹 Learning Rate: 0.000089\n"
     ]
    },
    {
     "name": "stderr",
     "output_type": "stream",
     "text": [
      "                                                        \r"
     ]
    },
    {
     "name": "stdout",
     "output_type": "stream",
     "text": [
      "📘 Epoch 13 🔹 Training Loss: 0.4425 🔹 Learning Rate: 0.000086\n"
     ]
    },
    {
     "name": "stderr",
     "output_type": "stream",
     "text": [
      "                                                        \r"
     ]
    },
    {
     "name": "stdout",
     "output_type": "stream",
     "text": [
      "📘 Epoch 14 🔹 Training Loss: 0.4283 🔹 Learning Rate: 0.000084\n"
     ]
    },
    {
     "name": "stderr",
     "output_type": "stream",
     "text": [
      "                                                        \r"
     ]
    },
    {
     "name": "stdout",
     "output_type": "stream",
     "text": [
      "📘 Epoch 15 🔹 Training Loss: 0.4132 🔹 Learning Rate: 0.000082\n"
     ]
    },
    {
     "name": "stderr",
     "output_type": "stream",
     "text": [
      "                                                        \r"
     ]
    },
    {
     "name": "stdout",
     "output_type": "stream",
     "text": [
      "📘 Epoch 16 🔹 Training Loss: 0.3805 🔹 Learning Rate: 0.000079\n"
     ]
    },
    {
     "name": "stderr",
     "output_type": "stream",
     "text": [
      "                                                        \r"
     ]
    },
    {
     "name": "stdout",
     "output_type": "stream",
     "text": [
      "📘 Epoch 17 🔹 Training Loss: 0.3704 🔹 Learning Rate: 0.000077\n"
     ]
    },
    {
     "name": "stderr",
     "output_type": "stream",
     "text": [
      "                                                        \r"
     ]
    },
    {
     "name": "stdout",
     "output_type": "stream",
     "text": [
      "📘 Epoch 18 🔹 Training Loss: 0.3636 🔹 Learning Rate: 0.000074\n"
     ]
    },
    {
     "name": "stderr",
     "output_type": "stream",
     "text": [
      "                                                        \r"
     ]
    },
    {
     "name": "stdout",
     "output_type": "stream",
     "text": [
      "📘 Epoch 19 🔹 Training Loss: 0.3428 🔹 Learning Rate: 0.000071\n"
     ]
    },
    {
     "name": "stderr",
     "output_type": "stream",
     "text": [
      "                                                        \r"
     ]
    },
    {
     "name": "stdout",
     "output_type": "stream",
     "text": [
      "📘 Epoch 20 🔹 Training Loss: 0.3227 🔹 Learning Rate: 0.000068\n"
     ]
    },
    {
     "name": "stderr",
     "output_type": "stream",
     "text": [
      "                                                        \r"
     ]
    },
    {
     "name": "stdout",
     "output_type": "stream",
     "text": [
      "📘 Epoch 21 🔹 Training Loss: 0.3160 🔹 Learning Rate: 0.000065\n"
     ]
    },
    {
     "name": "stderr",
     "output_type": "stream",
     "text": [
      "                                                        \r"
     ]
    },
    {
     "name": "stdout",
     "output_type": "stream",
     "text": [
      "📘 Epoch 22 🔹 Training Loss: 0.2962 🔹 Learning Rate: 0.000062\n"
     ]
    },
    {
     "name": "stderr",
     "output_type": "stream",
     "text": [
      "                                                        \r"
     ]
    },
    {
     "name": "stdout",
     "output_type": "stream",
     "text": [
      "📘 Epoch 23 🔹 Training Loss: 0.2868 🔹 Learning Rate: 0.000059\n"
     ]
    },
    {
     "name": "stderr",
     "output_type": "stream",
     "text": [
      "                                                        \r"
     ]
    },
    {
     "name": "stdout",
     "output_type": "stream",
     "text": [
      "📘 Epoch 24 🔹 Training Loss: 0.2685 🔹 Learning Rate: 0.000056\n"
     ]
    },
    {
     "name": "stderr",
     "output_type": "stream",
     "text": [
      "                                                        \r"
     ]
    },
    {
     "name": "stdout",
     "output_type": "stream",
     "text": [
      "📘 Epoch 25 🔹 Training Loss: 0.2656 🔹 Learning Rate: 0.000053\n"
     ]
    },
    {
     "name": "stderr",
     "output_type": "stream",
     "text": [
      "                                                        \r"
     ]
    },
    {
     "name": "stdout",
     "output_type": "stream",
     "text": [
      "📘 Epoch 26 🔹 Training Loss: 0.2566 🔹 Learning Rate: 0.000050\n"
     ]
    },
    {
     "name": "stderr",
     "output_type": "stream",
     "text": [
      "                                                        \r"
     ]
    },
    {
     "name": "stdout",
     "output_type": "stream",
     "text": [
      "📘 Epoch 27 🔹 Training Loss: 0.2417 🔹 Learning Rate: 0.000047\n"
     ]
    },
    {
     "name": "stderr",
     "output_type": "stream",
     "text": [
      "                                                        \r"
     ]
    },
    {
     "name": "stdout",
     "output_type": "stream",
     "text": [
      "📘 Epoch 28 🔹 Training Loss: 0.2328 🔹 Learning Rate: 0.000044\n"
     ]
    },
    {
     "name": "stderr",
     "output_type": "stream",
     "text": [
      "                                                        \r"
     ]
    },
    {
     "name": "stdout",
     "output_type": "stream",
     "text": [
      "📘 Epoch 29 🔹 Training Loss: 0.2240 🔹 Learning Rate: 0.000041\n"
     ]
    },
    {
     "name": "stderr",
     "output_type": "stream",
     "text": [
      "                                                        \r"
     ]
    },
    {
     "name": "stdout",
     "output_type": "stream",
     "text": [
      "📘 Epoch 30 🔹 Training Loss: 0.2166 🔹 Learning Rate: 0.000038\n"
     ]
    },
    {
     "name": "stderr",
     "output_type": "stream",
     "text": [
      "                                                        \r"
     ]
    },
    {
     "name": "stdout",
     "output_type": "stream",
     "text": [
      "📘 Epoch 31 🔹 Training Loss: 0.2089 🔹 Learning Rate: 0.000035\n"
     ]
    },
    {
     "name": "stderr",
     "output_type": "stream",
     "text": [
      "                                                        \r"
     ]
    },
    {
     "name": "stdout",
     "output_type": "stream",
     "text": [
      "📘 Epoch 32 🔹 Training Loss: 0.2045 🔹 Learning Rate: 0.000032\n"
     ]
    },
    {
     "name": "stderr",
     "output_type": "stream",
     "text": [
      "                                                        \r"
     ]
    },
    {
     "name": "stdout",
     "output_type": "stream",
     "text": [
      "📘 Epoch 33 🔹 Training Loss: 0.1976 🔹 Learning Rate: 0.000029\n"
     ]
    },
    {
     "name": "stderr",
     "output_type": "stream",
     "text": [
      "                                                        \r"
     ]
    },
    {
     "name": "stdout",
     "output_type": "stream",
     "text": [
      "📘 Epoch 34 🔹 Training Loss: 0.1835 🔹 Learning Rate: 0.000026\n"
     ]
    },
    {
     "name": "stderr",
     "output_type": "stream",
     "text": [
      "                                                        \r"
     ]
    },
    {
     "name": "stdout",
     "output_type": "stream",
     "text": [
      "📘 Epoch 35 🔹 Training Loss: 0.1810 🔹 Learning Rate: 0.000023\n"
     ]
    },
    {
     "name": "stderr",
     "output_type": "stream",
     "text": [
      "                                                        \r"
     ]
    },
    {
     "name": "stdout",
     "output_type": "stream",
     "text": [
      "📘 Epoch 36 🔹 Training Loss: 0.1731 🔹 Learning Rate: 0.000021\n"
     ]
    },
    {
     "name": "stderr",
     "output_type": "stream",
     "text": [
      "                                                        \r"
     ]
    },
    {
     "name": "stdout",
     "output_type": "stream",
     "text": [
      "📘 Epoch 37 🔹 Training Loss: 0.1679 🔹 Learning Rate: 0.000018\n"
     ]
    },
    {
     "name": "stderr",
     "output_type": "stream",
     "text": [
      "                                                        \r"
     ]
    },
    {
     "name": "stdout",
     "output_type": "stream",
     "text": [
      "📘 Epoch 38 🔹 Training Loss: 0.1617 🔹 Learning Rate: 0.000016\n"
     ]
    },
    {
     "name": "stderr",
     "output_type": "stream",
     "text": [
      "                                                        \r"
     ]
    },
    {
     "name": "stdout",
     "output_type": "stream",
     "text": [
      "📘 Epoch 39 🔹 Training Loss: 0.1531 🔹 Learning Rate: 0.000014\n"
     ]
    },
    {
     "name": "stderr",
     "output_type": "stream",
     "text": [
      "                                                        \r"
     ]
    },
    {
     "name": "stdout",
     "output_type": "stream",
     "text": [
      "📘 Epoch 40 🔹 Training Loss: 0.1620 🔹 Learning Rate: 0.000011\n"
     ]
    },
    {
     "name": "stderr",
     "output_type": "stream",
     "text": [
      "                                                        \r"
     ]
    },
    {
     "name": "stdout",
     "output_type": "stream",
     "text": [
      "📘 Epoch 41 🔹 Training Loss: 0.1544 🔹 Learning Rate: 0.000010\n"
     ]
    },
    {
     "name": "stderr",
     "output_type": "stream",
     "text": [
      "                                                        \r"
     ]
    },
    {
     "name": "stdout",
     "output_type": "stream",
     "text": [
      "📘 Epoch 42 🔹 Training Loss: 0.1461 🔹 Learning Rate: 0.000008\n"
     ]
    },
    {
     "name": "stderr",
     "output_type": "stream",
     "text": [
      "                                                        \r"
     ]
    },
    {
     "name": "stdout",
     "output_type": "stream",
     "text": [
      "📘 Epoch 43 🔹 Training Loss: 0.1440 🔹 Learning Rate: 0.000006\n"
     ]
    },
    {
     "name": "stderr",
     "output_type": "stream",
     "text": [
      "                                                        \r"
     ]
    },
    {
     "name": "stdout",
     "output_type": "stream",
     "text": [
      "📘 Epoch 44 🔹 Training Loss: 0.1453 🔹 Learning Rate: 0.000005\n"
     ]
    },
    {
     "name": "stderr",
     "output_type": "stream",
     "text": [
      "                                                        \r"
     ]
    },
    {
     "name": "stdout",
     "output_type": "stream",
     "text": [
      "📘 Epoch 45 🔹 Training Loss: 0.1373 🔹 Learning Rate: 0.000004\n"
     ]
    },
    {
     "name": "stderr",
     "output_type": "stream",
     "text": [
      "                                                        \r"
     ]
    },
    {
     "name": "stdout",
     "output_type": "stream",
     "text": [
      "📘 Epoch 46 🔹 Training Loss: 0.1356 🔹 Learning Rate: 0.000002\n"
     ]
    },
    {
     "name": "stderr",
     "output_type": "stream",
     "text": [
      "                                                        \r"
     ]
    },
    {
     "name": "stdout",
     "output_type": "stream",
     "text": [
      "📘 Epoch 47 🔹 Training Loss: 0.1355 🔹 Learning Rate: 0.000002\n"
     ]
    },
    {
     "name": "stderr",
     "output_type": "stream",
     "text": [
      "                                                        \r"
     ]
    },
    {
     "name": "stdout",
     "output_type": "stream",
     "text": [
      "📘 Epoch 48 🔹 Training Loss: 0.1351 🔹 Learning Rate: 0.000001\n"
     ]
    },
    {
     "name": "stderr",
     "output_type": "stream",
     "text": [
      "                                                        \r"
     ]
    },
    {
     "name": "stdout",
     "output_type": "stream",
     "text": [
      "📘 Epoch 49 🔹 Training Loss: 0.1416 🔹 Learning Rate: 0.000000\n"
     ]
    },
    {
     "name": "stderr",
     "output_type": "stream",
     "text": [
      "                                                        \r"
     ]
    },
    {
     "name": "stdout",
     "output_type": "stream",
     "text": [
      "📘 Epoch 50 🔹 Training Loss: 0.1350 🔹 Learning Rate: 0.000000\n",
      "💾 모델 저장 완료: ../checkpoints\\swin_tiny_patch4_window7_224_20250528_023613.pth\n"
     ]
    },
    {
     "name": "stderr",
     "output_type": "stream",
     "text": [
      "🔍 테스트셋 예측: 100%|██████████| 8258/8258 [04:00<00:00, 34.33it/s]\n"
     ]
    },
    {
     "name": "stdout",
     "output_type": "stream",
     "text": [
      "✅ 제출 파일 저장 완료: ../submissions\\submission_swin_tiny_patch4_window7_224_20250528_023613.csv\n",
      "\n"
     ]
    }
   ],
   "source": [
    "import sys\n",
    "import os\n",
    "sys.path.append(os.path.abspath('..'))\n",
    "\n",
    "import pandas as pd\n",
    "import torch\n",
    "import torch.nn as nn\n",
    "from timm import create_model\n",
    "from torchvision import transforms\n",
    "from PIL import Image\n",
    "from tqdm import tqdm\n",
    "import numpy as np\n",
    "import warnings\n",
    "from datetime import datetime\n",
    "warnings.filterwarnings('ignore')\n",
    "\n",
    "import random\n",
    "import numpy as np\n",
    "\n",
    "def seed_everything(seed=28):\n",
    "    random.seed(seed)\n",
    "    np.random.seed(seed)\n",
    "    torch.manual_seed(seed)\n",
    "    torch.cuda.manual_seed(seed)\n",
    "    torch.backends.cudnn.deterministic = True\n",
    "    torch.backends.cudnn.benchmark = False\n",
    "\n",
    "seed_everything(28)\n",
    "\n",
    "# ✅ 설정\n",
    "device = torch.device('cuda' if torch.cuda.is_available() else 'cpu')\n",
    "data_root = f'../data/train2'\n",
    "test_csv_path = '../data/test.csv'\n",
    "sample_sub_path = '../data/sample_submission.csv'\n",
    "save_dir = '../submissions'\n",
    "base_save_dir = '../checkpoints'\n",
    "num_epochs = 45\n",
    "batch_size = 32\n",
    "\n",
    "best_model_name = 'swin_tiny_patch4_window7_224'\n",
    "\n",
    "# ✅ 전체 데이터로 재학습\n",
    "from dataloaders.loaders import get_dataloaders\n",
    "from models.train_utils import train_one_epoch\n",
    "\n",
    "dataloaders = get_dataloaders(data_root, batch_size=batch_size, val_ratio=0.0, return_path=False)\n",
    "train_loader = dataloaders[best_model_name]['train']\n",
    "class_names = dataloaders[best_model_name]['classes']\n",
    "num_classes = len(class_names)\n",
    "\n",
    "model = create_model(best_model_name, pretrained=True, num_classes=num_classes).to(device)\n",
    "optimizer = torch.optim.AdamW(model.parameters(), lr=1e-4)\n",
    "criterion = nn.CrossEntropyLoss()\n",
    "scheduler = torch.optim.lr_scheduler.CosineAnnealingLR(optimizer, T_max=num_epochs)\n",
    "\n",
    "print(\"🔁 전체 학습 데이터로 재학습 시작\")\n",
    "for epoch in range(num_epochs):\n",
    "    train_loss = train_one_epoch(model, train_loader, criterion, optimizer, device)\n",
    "    print(f\"📘 Epoch {epoch + 1} 🔹 Training Loss: {train_loss:.4f} 🔹 Learning Rate: {scheduler.get_last_lr()[0]:.6f}\")\n",
    "    scheduler.step()\n",
    "\n",
    "# ✅ 모델 저장\n",
    "os.makedirs(base_save_dir, exist_ok=True)\n",
    "timestamp = datetime.now().strftime('%Y%m%d_%H%M%S')\n",
    "model_path = os.path.join(base_save_dir, f'{best_model_name}_{timestamp}.pth')\n",
    "torch.save(model.state_dict(), model_path)\n",
    "print(f\"💾 모델 저장 완료: {model_path}\")\n",
    "\n",
    "model.eval()\n",
    "\n",
    "# ✅ 테스트 전처리\n",
    "transform = transforms.Compose([\n",
    "    transforms.Resize(256),\n",
    "    transforms.CenterCrop(224),\n",
    "    transforms.ToTensor(),\n",
    "    transforms.Normalize(\n",
    "        mean=[0.485, 0.456, 0.406],\n",
    "        std=[0.229, 0.224, 0.225]\n",
    "    )\n",
    "])\n",
    "\n",
    "# ✅ 테스트 데이터 로드\n",
    "test_df = pd.read_csv(test_csv_path)\n",
    "submission_template = pd.read_csv(sample_sub_path)\n",
    "submission_class_names = submission_template.columns.tolist()[1:]\n",
    "\n",
    "# ✅ 예측\n",
    "results = []\n",
    "with torch.no_grad():\n",
    "    for _, row in tqdm(test_df.iterrows(), total=len(test_df), desc='🔍 테스트셋 예측'):\n",
    "        img_path = os.path.join('../data', row['img_path'])\n",
    "        image = Image.open(img_path).convert('RGB')\n",
    "\n",
    "        input_tensor = transform(image).unsqueeze(0).to(device)\n",
    "        output = model(input_tensor)\n",
    "        prob = torch.softmax(output, dim=1).squeeze().cpu().numpy()\n",
    "        results.append(prob)\n",
    "\n",
    "# ✅ 제출 파일 생성\n",
    "submission_df = pd.DataFrame(results, columns=class_names)\n",
    "submission_df.insert(0, 'ID', test_df['ID'])\n",
    "\n",
    "os.makedirs(save_dir, exist_ok=True)\n",
    "submission_path = os.path.join(save_dir, f'submission_{best_model_name}_{timestamp}.csv')\n",
    "submission_df.to_csv(submission_path, index=False)\n",
    "\n",
    "print(f\"✅ 제출 파일 저장 완료: {submission_path}\\n\")\n"
   ]
  },
  {
   "cell_type": "code",
   "execution_count": 1,
   "metadata": {},
   "outputs": [
    {
     "name": "stdout",
     "output_type": "stream",
     "text": [
      "🔁 전체 학습 데이터로 재학습 시작\n"
     ]
    },
    {
     "name": "stderr",
     "output_type": "stream",
     "text": [
      "                                                          \r"
     ]
    },
    {
     "name": "stdout",
     "output_type": "stream",
     "text": [
      "📘 Epoch 1\n",
      "   🔹 Training Loss: 5.8434\n"
     ]
    },
    {
     "name": "stderr",
     "output_type": "stream",
     "text": [
      "                                                          \r"
     ]
    },
    {
     "name": "stdout",
     "output_type": "stream",
     "text": [
      "📘 Epoch 2\n",
      "   🔹 Training Loss: 3.8131\n"
     ]
    },
    {
     "name": "stderr",
     "output_type": "stream",
     "text": [
      "                                                          \r"
     ]
    },
    {
     "name": "stdout",
     "output_type": "stream",
     "text": [
      "📘 Epoch 3\n",
      "   🔹 Training Loss: 1.8237\n"
     ]
    },
    {
     "name": "stderr",
     "output_type": "stream",
     "text": [
      "                                                          \r"
     ]
    },
    {
     "name": "stdout",
     "output_type": "stream",
     "text": [
      "📘 Epoch 4\n",
      "   🔹 Training Loss: 1.1614\n"
     ]
    },
    {
     "name": "stderr",
     "output_type": "stream",
     "text": [
      "                                                          \r"
     ]
    },
    {
     "name": "stdout",
     "output_type": "stream",
     "text": [
      "📘 Epoch 5\n",
      "   🔹 Training Loss: 0.8369\n"
     ]
    },
    {
     "name": "stderr",
     "output_type": "stream",
     "text": [
      "🔍 테스트셋 예측: 100%|██████████| 8258/8258 [03:13<00:00, 42.77it/s]\n"
     ]
    },
    {
     "name": "stdout",
     "output_type": "stream",
     "text": [
      "✅ 제출 파일 저장 완료: ../submissions\\submission_vit_base_patch16_224_20250524_125031.csv\n",
      "🔁 전체 학습 데이터로 재학습 시작\n"
     ]
    },
    {
     "name": "stderr",
     "output_type": "stream",
     "text": [
      "                                                          \r"
     ]
    },
    {
     "name": "stdout",
     "output_type": "stream",
     "text": [
      "📘 Epoch 1\n",
      "   🔹 Training Loss: 5.9336\n"
     ]
    },
    {
     "name": "stderr",
     "output_type": "stream",
     "text": [
      "                                                          \r"
     ]
    },
    {
     "name": "stdout",
     "output_type": "stream",
     "text": [
      "📘 Epoch 2\n",
      "   🔹 Training Loss: 4.7529\n"
     ]
    },
    {
     "name": "stderr",
     "output_type": "stream",
     "text": [
      "                                                          \r"
     ]
    },
    {
     "name": "stdout",
     "output_type": "stream",
     "text": [
      "📘 Epoch 3\n",
      "   🔹 Training Loss: 2.4988\n"
     ]
    },
    {
     "name": "stderr",
     "output_type": "stream",
     "text": [
      "                                                          \r"
     ]
    },
    {
     "name": "stdout",
     "output_type": "stream",
     "text": [
      "📘 Epoch 4\n",
      "   🔹 Training Loss: 1.4714\n"
     ]
    },
    {
     "name": "stderr",
     "output_type": "stream",
     "text": [
      "                                                          \r"
     ]
    },
    {
     "name": "stdout",
     "output_type": "stream",
     "text": [
      "📘 Epoch 5\n",
      "   🔹 Training Loss: 1.0885\n"
     ]
    },
    {
     "name": "stderr",
     "output_type": "stream",
     "text": [
      "🔍 테스트셋 예측: 100%|██████████| 8258/8258 [03:07<00:00, 43.99it/s]\n"
     ]
    },
    {
     "name": "stdout",
     "output_type": "stream",
     "text": [
      "✅ 제출 파일 저장 완료: ../submissions\\submission_vit_base_patch16_224_20250524_135840.csv\n",
      "🔁 전체 학습 데이터로 재학습 시작\n"
     ]
    },
    {
     "name": "stderr",
     "output_type": "stream",
     "text": [
      "                                                        \r"
     ]
    },
    {
     "name": "stdout",
     "output_type": "stream",
     "text": [
      "📘 Epoch 1\n",
      "   🔹 Training Loss: 5.9534\n"
     ]
    },
    {
     "name": "stderr",
     "output_type": "stream",
     "text": [
      "                                                        \r"
     ]
    },
    {
     "name": "stdout",
     "output_type": "stream",
     "text": [
      "📘 Epoch 2\n",
      "   🔹 Training Loss: 5.1344\n"
     ]
    },
    {
     "name": "stderr",
     "output_type": "stream",
     "text": [
      "                                                        \r"
     ]
    },
    {
     "name": "stdout",
     "output_type": "stream",
     "text": [
      "📘 Epoch 3\n",
      "   🔹 Training Loss: 3.1375\n"
     ]
    },
    {
     "name": "stderr",
     "output_type": "stream",
     "text": [
      "                                                        \r"
     ]
    },
    {
     "name": "stdout",
     "output_type": "stream",
     "text": [
      "📘 Epoch 4\n",
      "   🔹 Training Loss: 1.7895\n"
     ]
    },
    {
     "name": "stderr",
     "output_type": "stream",
     "text": [
      "                                                        \r"
     ]
    },
    {
     "name": "stdout",
     "output_type": "stream",
     "text": [
      "📘 Epoch 5\n",
      "   🔹 Training Loss: 1.2885\n"
     ]
    },
    {
     "name": "stderr",
     "output_type": "stream",
     "text": [
      "🔍 테스트셋 예측: 100%|██████████| 8258/8258 [02:17<00:00, 60.20it/s]\n"
     ]
    },
    {
     "name": "stdout",
     "output_type": "stream",
     "text": [
      "✅ 제출 파일 저장 완료: ../submissions\\submission_vit_base_patch16_224_20250524_150508.csv\n"
     ]
    }
   ],
   "source": [
    "# import sys\n",
    "# import os\n",
    "# sys.path.append(os.path.abspath('..'))\n",
    "\n",
    "# import pandas as pd\n",
    "# import torch\n",
    "# import torch.nn as nn\n",
    "# from timm import create_model\n",
    "# from torchvision import transforms\n",
    "# from PIL import Image\n",
    "# from tqdm import tqdm\n",
    "# import numpy as np\n",
    "# import warnings\n",
    "# from datetime import datetime\n",
    "# warnings.filterwarnings('ignore')\n",
    "\n",
    "# import random\n",
    "# import numpy as np\n",
    "\n",
    "# def seed_everything(seed=28):\n",
    "#     random.seed(seed)\n",
    "#     np.random.seed(seed)\n",
    "#     torch.manual_seed(seed)\n",
    "#     torch.cuda.manual_seed(seed)\n",
    "#     torch.backends.cudnn.deterministic = True\n",
    "#     torch.backends.cudnn.benchmark = False\n",
    "\n",
    "# seed_everything(28)\n",
    "\n",
    "# # ✅ 설정\n",
    "# device = torch.device('cuda' if torch.cuda.is_available() else 'cpu')\n",
    "# data_root = f'../data/train2'\n",
    "# test_csv_path = '../data/test.csv'\n",
    "# sample_sub_path = '../data/sample_submission.csv'\n",
    "# save_dir = '../submissions'\n",
    "# base_save_dir = '../checkpoints'  # 🔸 모델 저장 경로 추가\n",
    "# num_epochs = 50\n",
    "# patience = 3\n",
    "# batch_size = 32\n",
    "\n",
    "# best_model_name = 'vit_base_patch16_224'\n",
    "\n",
    "# # ✅ 전체 데이터로 재학습\n",
    "# from dataloaders.loaders import get_dataloaders\n",
    "# from models.train_utils import train_one_epoch, EarlyStopping\n",
    "\n",
    "# dataloaders = get_dataloaders(data_root, batch_size=batch_size, val_ratio=0.0, return_path=False)\n",
    "# train_loader = dataloaders[best_model_name]['train']\n",
    "# class_names = dataloaders[best_model_name]['classes']\n",
    "# num_classes = len(class_names)\n",
    "\n",
    "# model = create_model(best_model_name, pretrained=True, num_classes=num_classes).to(device)\n",
    "# optimizer = torch.optim.Adam(model.parameters(), lr=1e-4)\n",
    "# criterion = nn.CrossEntropyLoss()\n",
    "# scheduler = torch.optim.lr_scheduler.CosineAnnealingLR(optimizer, T_max=num_epochs)\n",
    "# early_stopping = EarlyStopping(patience=patience)\n",
    "\n",
    "# print(\"🔁 전체 학습 데이터로 재학습 시작\")\n",
    "# for epoch in range(num_epochs):\n",
    "#     train_loss = train_one_epoch(model, train_loader, criterion, optimizer, device)\n",
    "#     print(f\"📘 Epoch {epoch + 1} 🔹 Training Loss: {train_loss:.4f} 🔹 Learning Rate: {scheduler.get_last_lr()[0]:.6f}\")\n",
    "#     scheduler.step()\n",
    "#     early_stopping(train_loss, model)\n",
    "#     if early_stopping.early_stop:\n",
    "#         print(\"⛔ Early stopping 발생\")\n",
    "#         break\n",
    "\n",
    "# # ✅ 모델 저장\n",
    "# model.load_state_dict(early_stopping.best_model_state)\n",
    "# os.makedirs(base_save_dir, exist_ok=True)\n",
    "# timestamp = datetime.now().strftime('%Y%m%d_%H%M%S')\n",
    "# model_path = os.path.join(base_save_dir, f'{best_model_name}_{timestamp}.pth')\n",
    "# torch.save(model.state_dict(), model_path)\n",
    "# print(f\"💾 모델 저장 완료: {model_path}\")\n",
    "\n",
    "# model.eval()\n",
    "\n",
    "# # ✅ 테스트 전처리\n",
    "# transform = transforms.Compose([\n",
    "#     transforms.Resize(256),\n",
    "#     transforms.CenterCrop(224),\n",
    "#     transforms.ToTensor(),\n",
    "#     transforms.Normalize(\n",
    "#         mean=[0.485, 0.456, 0.406],\n",
    "#         std=[0.229, 0.224, 0.225]\n",
    "#     )\n",
    "# ])\n",
    "\n",
    "# # ✅ 테스트 데이터 로드\n",
    "# test_df = pd.read_csv(test_csv_path)\n",
    "# submission_template = pd.read_csv(sample_sub_path)\n",
    "# submission_class_names = submission_template.columns.tolist()[1:]\n",
    "\n",
    "# # ✅ 예측\n",
    "# results = []\n",
    "# with torch.no_grad():\n",
    "#     for _, row in tqdm(test_df.iterrows(), total=len(test_df), desc='🔍 테스트셋 예측'):\n",
    "#         img_path = os.path.join('../data', row['img_path'])\n",
    "#         image = Image.open(img_path).convert('RGB')\n",
    "\n",
    "#         input_tensor = transform(image).unsqueeze(0).to(device)\n",
    "#         output = model(input_tensor)\n",
    "#         prob = torch.softmax(output, dim=1).squeeze().cpu().numpy()\n",
    "#         results.append(prob)\n",
    "\n",
    "# # ✅ 제출 파일 생성\n",
    "# submission_df = pd.DataFrame(results, columns=class_names)\n",
    "# submission_df.insert(0, 'ID', test_df['ID'])\n",
    "\n",
    "# os.makedirs(save_dir, exist_ok=True)\n",
    "# submission_path = os.path.join(save_dir, f'submission_{best_model_name}_{timestamp}.csv')\n",
    "# submission_df.to_csv(submission_path, index=False)\n",
    "\n",
    "# print(f\"✅ 제출 파일 저장 완료: {submission_path}\\n\")\n",
    "\n",
    "# import sys\n",
    "# import os\n",
    "# sys.path.append(os.path.abspath('..'))  # 상위 폴더 추가\n",
    "\n",
    "# import pandas as pd\n",
    "# import torch\n",
    "# import torch.nn as nn\n",
    "# from timm import create_model\n",
    "# from torchvision import transforms\n",
    "# from PIL import Image\n",
    "# from tqdm import tqdm\n",
    "# import numpy as np\n",
    "# import warnings\n",
    "# from datetime import datetime\n",
    "# warnings.filterwarnings('ignore')\n",
    "\n",
    "# import random\n",
    "# import numpy as np\n",
    "\n",
    "# def seed_everything(seed=28):\n",
    "#     random.seed(seed)\n",
    "#     np.random.seed(seed)\n",
    "#     torch.manual_seed(seed)\n",
    "#     torch.cuda.manual_seed(seed)\n",
    "\n",
    "#     # cuDNN 연산 결정적 설정\n",
    "#     torch.backends.cudnn.deterministic = True\n",
    "#     torch.backends.cudnn.benchmark = False\n",
    "\n",
    "\n",
    "# seed_everything(28)\n",
    "\n",
    "# # ✅ 설정\n",
    "# device = torch.device('cuda' if torch.cuda.is_available() else 'cpu')\n",
    "# data_root = f'../data/train2'\n",
    "# test_csv_path = '../data/test.csv'\n",
    "# sample_sub_path = '../data/sample_submission.csv'\n",
    "# save_dir = '../submissions'\n",
    "# num_epochs = 10\n",
    "# patience = 3\n",
    "# batch_size = 32\n",
    "\n",
    "# # 최고 성능 모델을 설정해주세요.\n",
    "# best_model_name = 'vit_base_patch16_224'\n",
    "\n",
    "# # ✅ 전체 데이터로 재학습\n",
    "# from dataloaders.loaders import get_dataloaders\n",
    "# from models.train_utils import train_one_epoch, EarlyStopping\n",
    "\n",
    "# dataloaders = get_dataloaders(data_root, batch_size=batch_size, val_ratio=0.0, return_path=False)\n",
    "# train_loader = dataloaders[best_model_name]['train']\n",
    "# class_names = dataloaders[best_model_name]['classes']\n",
    "# num_classes = len(class_names)\n",
    "\n",
    "# model = create_model(best_model_name, pretrained=True, num_classes=num_classes).to(device)\n",
    "# optimizer = torch.optim.Adam(model.parameters(), lr=1e-4)\n",
    "# criterion = nn.CrossEntropyLoss()\n",
    "# scheduler = torch.optim.lr_scheduler.CosineAnnealingLR(optimizer, T_max=num_epochs)\n",
    "# early_stopping = EarlyStopping(patience=patience)\n",
    "\n",
    "# print(\"🔁 전체 학습 데이터로 재학습 시작\")\n",
    "# for epoch in range(num_epochs):\n",
    "#     train_loss = train_one_epoch(model, train_loader, criterion, optimizer, device)\n",
    "#     print(f\"📘 Epoch {epoch + 1}\")\n",
    "#     print(f\"   🔹 Training Loss: {train_loss:.4f}\")\n",
    "#     scheduler.step()\n",
    "#     early_stopping(train_loss, model)\n",
    "#     if early_stopping.early_stop:\n",
    "#         print(\"⛔ Early stopping 발생\")\n",
    "#         break\n",
    "\n",
    "# model.load_state_dict(early_stopping.best_model_state)\n",
    "# model.eval()\n",
    "\n",
    "# transform = transforms.Compose([\n",
    "#     transforms.Resize(256),\n",
    "#     transforms.CenterCrop(224),\n",
    "#     transforms.ToTensor(),\n",
    "#     transforms.Normalize(\n",
    "#         mean=[0.485, 0.456, 0.406],\n",
    "#         std=[0.229, 0.224, 0.225]\n",
    "#     )\n",
    "# ])\n",
    "\n",
    "# # ✅ 테스트 데이터 로드\n",
    "# test_df = pd.read_csv(test_csv_path)\n",
    "# submission_template = pd.read_csv(sample_sub_path)\n",
    "# submission_class_names = submission_template.columns.tolist()[1:]\n",
    "\n",
    "# # ✅ 예측\n",
    "# results = []\n",
    "# with torch.no_grad():\n",
    "#     for _, row in tqdm(test_df.iterrows(), total=len(test_df), desc='🔍 테스트셋 예측'):\n",
    "#         img_path = os.path.join('../data', row['img_path'])\n",
    "#         image = Image.open(img_path).convert('RGB')\n",
    "\n",
    "#         input_tensor = transform(image).unsqueeze(0).to(device)\n",
    "#         output = model(input_tensor)\n",
    "#         prob = torch.softmax(output, dim=1).squeeze().cpu().numpy()\n",
    "#         results.append(prob)\n",
    "\n",
    "# # ✅ 제출 파일 생성\n",
    "# submission_df = pd.DataFrame(results, columns=class_names)\n",
    "# submission_df.insert(0, 'ID', test_df['ID'])\n",
    "\n",
    "# os.makedirs(save_dir, exist_ok=True)\n",
    "# timestamp = datetime.now().strftime('%Y%m%d_%H%M%S')\n",
    "# submission_path = os.path.join(save_dir, f'submission_{best_model_name}_{timestamp}.csv')\n",
    "# submission_df.to_csv(submission_path, index=False)\n",
    "\n",
    "# print(f\"✅ 제출 파일 저장 완료: {submission_path}\\n\")\n"
   ]
  }
 ],
 "metadata": {
  "kernelspec": {
   "display_name": "pytorch_env",
   "language": "python",
   "name": "python3"
  },
  "language_info": {
   "codemirror_mode": {
    "name": "ipython",
    "version": 3
   },
   "file_extension": ".py",
   "mimetype": "text/x-python",
   "name": "python",
   "nbconvert_exporter": "python",
   "pygments_lexer": "ipython3",
   "version": "3.11.12"
  }
 },
 "nbformat": 4,
 "nbformat_minor": 2
}
