{
 "cells": [
  {
   "cell_type": "code",
   "execution_count": 1,
   "metadata": {},
   "outputs": [],
   "source": [
    "from PIL import Image\n",
    "from torchvision import datasets\n",
    "import os\n",
    "import shutil\n",
    "import random\n",
    "\n",
    "def crop_roof_area(image, height_ratio=0.3):\n",
    "    width, height = image.size\n",
    "    crop_height = int(height * height_ratio)\n",
    "    return image.crop((0, 0, width, crop_height))\n",
    "\n",
    "def generate_classwise_roof_crops(data_root, save_root, ratio=0.2, height_ratio=0.4):\n",
    "    dataset = datasets.ImageFolder(data_root)\n",
    "    class_to_idx = dataset.class_to_idx\n",
    "    idx_to_class = {v: k for k, v in class_to_idx.items()}\n",
    "\n",
    "    os.makedirs(save_root, exist_ok=True)\n",
    "\n",
    "    classwise_paths = {cls: [] for cls in dataset.classes}\n",
    "    for path, label in dataset.samples:\n",
    "        classwise_paths[idx_to_class[label]].append(path)\n",
    "\n",
    "    for cls_name, paths in classwise_paths.items():\n",
    "        cls_out_dir = os.path.join(save_root, cls_name)\n",
    "        os.makedirs(cls_out_dir, exist_ok=True)\n",
    "\n",
    "        num_to_generate = int(len(paths) * ratio)\n",
    "        selected_paths = random.sample(paths, num_to_generate)\n",
    "\n",
    "        for i, img_path in enumerate(selected_paths):\n",
    "            img = Image.open(img_path).convert(\"RGB\")\n",
    "            roof = crop_roof_area(img, height_ratio=height_ratio)\n",
    "            new_name = f\"roof_{i}_{os.path.basename(img_path)}\"\n",
    "            roof.save(os.path.join(cls_out_dir, new_name))\n",
    "\n",
    "        # ✅ 원본도 함께 복사\n",
    "        for path in paths:\n",
    "            shutil.copy(path, os.path.join(cls_out_dir, os.path.basename(path)))\n",
    "\n",
    "    print(f\"✅ 클래스별 crop 비율 {ratio:.0%} 적용 완료. 저장 위치: {save_root}\")\n",
    "\n",
    "\n",
    "# 🔧 실행 파라미터 지정\n",
    "data_root = \"../data/train2\"  # 원본 학습 데이터 폴더\n",
    "save_root = \"../data/train2_augmented\"  # 저장할 새 폴더\n",
    "crop_ratio = 0.2  # 각 클래스에서 crop 생성할 비율\n",
    "roof_height_ratio = 0.4  # 이미지 상단 몇 % 자를지\n",
    "\n",
    "# 🚀 함수 실행\n",
    "generate_classwise_roof_crops(\n",
    "    data_root=data_root,\n",
    "    save_root=save_root,\n",
    "    ratio=crop_ratio,\n",
    "    height_ratio=roof_height_ratio\n",
    ")"
   ]
  },
  {
   "cell_type": "code",
   "execution_count": null,
   "metadata": {},
   "outputs": [],
   "source": []
  }
 ],
 "metadata": {
  "kernelspec": {
   "display_name": "pytorch_env",
   "language": "python",
   "name": "python3"
  },
  "language_info": {
   "codemirror_mode": {
    "name": "ipython",
    "version": 3
   },
   "file_extension": ".py",
   "mimetype": "text/x-python",
   "name": "python",
   "nbconvert_exporter": "python",
   "pygments_lexer": "ipython3",
   "version": "3.11.12"
  }
 },
 "nbformat": 4,
 "nbformat_minor": 2
}
